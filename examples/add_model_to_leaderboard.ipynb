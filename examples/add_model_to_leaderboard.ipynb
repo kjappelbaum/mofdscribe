{
 "cells": [
  {
   "cell_type": "code",
   "execution_count": 1,
   "metadata": {},
   "outputs": [],
   "source": [
    "%reload_ext autoreload\n",
    "%autoreload 2"
   ]
  },
  {
   "cell_type": "markdown",
   "metadata": {},
   "source": [
    "# How to submit to the leaderboard\n"
   ]
  },
  {
   "cell_type": "markdown",
   "metadata": {},
   "source": [
    "In this tutorial, we will build a graph-convolutional neural network for the PBE bandgap task.\n",
    "We will use the [Crystal Graph Convolutional Neural Network](https://journals.aps.org/prl/abstract/10.1103/PhysRevLett.120.145301) implemented in the [Deepchem library](https://deepchem.io/).\n",
    "\n",
    "We choose this one, as it will need some more involved training loop and customization that you might also need in a real-world scenario.\n"
   ]
  },
  {
   "cell_type": "markdown",
   "metadata": {},
   "source": [
    "To install Deepchem, follow the installation instructions on [the Deepchem landing page](https://deepchem.io/). You'll need to run something along the following lines (and also install PyTorch and dgl):\n",
    "\n",
    "> conda install -c conda-forge rdkit deepchem==2.6.1\n",
    ">\n",
    "> pip install tensorflow-gpu~=2.4\n"
   ]
  },
  {
   "cell_type": "markdown",
   "metadata": {},
   "source": [
    "## Imports\n"
   ]
  },
  {
   "cell_type": "code",
   "execution_count": 2,
   "metadata": {},
   "outputs": [],
   "source": [
    "import json\n",
    "import os\n",
    "import uuid\n",
    "from typing import Iterable, List, Tuple, Union\n",
    "\n",
    "import deepchem as dc\n",
    "import numpy as np\n",
    "from deepchem.data import Dataset\n",
    "from deepchem.data.data_loader import InMemoryLoader\n",
    "from deepchem.feat import MaterialStructureFeaturizer\n",
    "from deepchem.feat.graph_data import GraphData\n",
    "from deepchem.models.torch_models.cgcnn import CGCNNModel\n",
    "from deepchem.molnet.load_function.molnet_loader import TransformerGenerator, _MolnetLoader\n",
    "from deepchem.utils.data_utils import download_url, get_data_dir\n",
    "from deepchem.utils.typing import PymatgenStructure\n",
    "from loguru import logger\n",
    "from pymatgen.analysis.local_env import CrystalNN, CutOffDictNN, JmolNN\n",
    "from pymatgen.core import Structure\n",
    "from pymatgen.core.structure import Structure\n",
    "\n",
    "from mofdscribe.bench import PBEBandGapIDBench\n",
    "\n",
    "ATOM_INIT_JSON_URL = \"https://deepchemdata.s3-us-west-1.amazonaws.com/datasets/atom_init.json\"\n",
    "VESTA_NN = CutOffDictNN.from_preset(\"vesta_2019\")"
   ]
  },
  {
   "cell_type": "markdown",
   "metadata": {},
   "source": [
    "## Plumbing to make Deepchem work with custom datasets\n"
   ]
  },
  {
   "cell_type": "code",
   "execution_count": 3,
   "metadata": {},
   "outputs": [],
   "source": [
    "model = CGCNNModel(\n",
    "    mode=\"regression\", in_edge_dim=16\n",
    ")  # we use default settings for demonstration purposes. We change the edge dim as we us a simpler featurizer.\n"
   ]
  },
  {
   "cell_type": "markdown",
   "metadata": {},
   "source": [
    "We use a simpler featurizer, however, you can also use the default `CGCNNFeaturizer`\n"
   ]
  },
  {
   "cell_type": "code",
   "execution_count": 4,
   "metadata": {},
   "outputs": [],
   "source": [
    "class CrystalBondFeaturizer(MaterialStructureFeaturizer):\n",
    "    \"\"\"\n",
    "    Calculate structure graph features for crystals.\n",
    "\n",
    "    Based on the implementation in Crystal Graph Convolutional\n",
    "    Neural Networks (CGCNN). The method constructs a crystal graph\n",
    "    representation including atom features and bond features (neighbor\n",
    "    distances). Neighbors are determined using bond heuristics.\n",
    "    Optionally, a Gaussian filter is applied to neighbor distances.\n",
    "    All units are in Angstrom.\n",
    "    This featurizer requires the optional dependency pymatgen. It may\n",
    "    be useful when 3D coordinates are available and when using graph\n",
    "    network models and crystal graph convolutional networks.\n",
    "    See [1]_ for more details.\n",
    "    References\n",
    "    ----------\n",
    "    .. [1] T. Xie and J. C. Grossman, \"Crystal graph convolutional\n",
    "       neural networks for an accurate and interpretable prediction\n",
    "       of material properties\", Phys. Rev. Lett. 120, 2018,\n",
    "       https://arxiv.org/abs/1710.10324\n",
    "    Examples\n",
    "    --------\n",
    "    >>> import pymatgen as mg\n",
    "    >>> featurizer = CrystalBondFeaturizer()\n",
    "    >>> lattice = mg.core.Lattice.cubic(4.2)\n",
    "    >>> structure = mg.core.Structure(lattice, [\"Cs\", \"Cl\"], [[0, 0, 0], [0.5, 0.5, 0.5]])\n",
    "    >>> features = featurizer.featurize([structure])\n",
    "    >>> feature = features[0]\n",
    "    >>> print(type(feature))\n",
    "    <class 'deepchem.feat.graph_data.GraphData'>\n",
    "    Note\n",
    "    ----\n",
    "    This class requires Pymatgen to be installed.\n",
    "    \"\"\"\n",
    "\n",
    "    def __init__(self, heuristic: str = \"vesta\", step: float = 0.2, radius: float = 3.0):\n",
    "        \"\"\"Initialize CrystalBondFeaturizer.\n",
    "\n",
    "        Parameters\n",
    "        ----------\n",
    "        heuristic : str\n",
    "            The heuristic to use for determining neighbors.\n",
    "        radius : float\n",
    "            Radius of sphere for finding neighbors of atoms in unit cell. This is the radius\n",
    "            of the Gaussian filter. Default is 3.0.\n",
    "        step : float\n",
    "            Step size for Gaussian filter. This value is used when building edge features.\n",
    "            If None, use only the bond length. Default is 0.2.\n",
    "\n",
    "        Raises\n",
    "        ------\n",
    "        ValueError\n",
    "            If `heuristic` is not one of the following: [\"vesta\", \"jmol\", \"crystal\"].\n",
    "        \"\"\"\n",
    "        heuristic = heuristic.lower()\n",
    "        if heuristic == \"vesta\":\n",
    "            self.nn = VESTA_NN\n",
    "        elif heuristic == \"jmol\":\n",
    "            self.nn = JmolNN()\n",
    "        elif heuristic == \"crystal\":\n",
    "            self.nn = CrystalNN()\n",
    "        else:\n",
    "            raise ValueError(\"Unknown heuristic: {}\".format(heuristic))\n",
    "        self.step = step\n",
    "        self.radius = radius\n",
    "        # load atom_init.json\n",
    "        data_dir = get_data_dir()\n",
    "        download_url(ATOM_INIT_JSON_URL, data_dir)\n",
    "        atom_init_json_path = os.path.join(data_dir, \"atom_init.json\")\n",
    "        with open(atom_init_json_path, \"r\") as f:\n",
    "            atom_init_json = json.load(f)\n",
    "\n",
    "        self.atom_features = {\n",
    "            int(key): np.array(value, dtype=np.float32) for key, value in atom_init_json.items()\n",
    "        }\n",
    "        self.valid_atom_number = set(self.atom_features.keys())\n",
    "\n",
    "    def _featurize(self, datapoint: PymatgenStructure, **kwargs) -> GraphData:\n",
    "        \"\"\"Calculate crystal graph features from pymatgen structure.\n",
    "\n",
    "        Parameters\n",
    "        ----------\n",
    "        datapoint: pymatgen.core.Structure\n",
    "                A periodic crystal composed of a lattice and a sequence of atomic\n",
    "                sites with 3D coordinates and elements.\n",
    "\n",
    "        Returns\n",
    "        -------\n",
    "        graph: GraphData\n",
    "                A crystal graph with CGCNN style features.\n",
    "        \"\"\"\n",
    "        if type(datapoint) is not Structure:\n",
    "            logger.warning(\n",
    "                f\"CrystalBondFeaturizer requires pymatgen.core.Structure, got {type(datapoint)}\"\n",
    "            )\n",
    "            raise ValueError(\n",
    "                f\"CrystalBondFeaturizer requires pymatgen.core.Structure, got {type(datapoint)}\"\n",
    "            )\n",
    "        node_features = self._get_node_features(datapoint)\n",
    "        edge_index, edge_features = self._get_edge_features_and_index(datapoint)\n",
    "        graph = GraphData(node_features, edge_index, edge_features)\n",
    "        return graph\n",
    "\n",
    "    def _get_node_features(self, struct: PymatgenStructure) -> np.ndarray:\n",
    "        \"\"\"Get the node feature from `atom_init.json`.\n",
    "\n",
    "        The `atom_init.json` was collected\n",
    "        from `data/sample-regression/atom_init.json` in the CGCNN repository.\n",
    "\n",
    "        Parameters\n",
    "        ----------\n",
    "        struct: pymatgen.core.Structure\n",
    "            A periodic crystal composed of a lattice and a sequence of atomic\n",
    "            sites with 3D coordinates and elements.\n",
    "\n",
    "        Returns\n",
    "        -------\n",
    "        node_features: np.ndarray\n",
    "            A numpy array of shape `(num_nodes, 92)`.\n",
    "        \"\"\"\n",
    "        node_features = []\n",
    "        for site in struct:\n",
    "            # check whether the atom feature exists or not\n",
    "            if site.specie.number not in self.valid_atom_number:\n",
    "                raise RuntimeError(\"site.specie.number not in self.valid_atom_number\")\n",
    "            node_features.append(self.atom_features[site.specie.number])\n",
    "        return np.vstack(node_features).astype(float)\n",
    "\n",
    "    def _get_edge_features_and_index(\n",
    "        self, struct: PymatgenStructure\n",
    "    ) -> Tuple[np.ndarray, np.ndarray]:\n",
    "        \"\"\"Calculate the edge feature and edge index from pymatgen structure.\n",
    "\n",
    "        Parameters\n",
    "        ----------\n",
    "        struct: pymatgen.core.Structure\n",
    "            A periodic crystal composed of a lattice and a sequence of atomic\n",
    "            sites with 3D coordinates and elements.\n",
    "        Returns\n",
    "        -------\n",
    "        edge_idx: np.ndarray, dtype int\n",
    "            A numpy array of shape with `(2, num_edges)`.\n",
    "        edge_features: np.ndarray\n",
    "            A numpy array of shape with `(num_edges, filter_length)`. The `filter_length` is\n",
    "            (self.radius / self.step) + 1. The edge features were built by applying gaussian\n",
    "            filter to the distance between nodes.\n",
    "        \"\"\"\n",
    "        neighbors_ = self.nn.get_all_nn_info(struct)\n",
    "\n",
    "        neighbors = []\n",
    "        for n in neighbors_:\n",
    "            sites = [s[\"site\"] for s in n]\n",
    "            n = sorted(sites, key=lambda x: x[1])\n",
    "            neighbors.append(n)\n",
    "\n",
    "        # construct bi-directed graph\n",
    "        src_idx, dest_idx = [], []\n",
    "        edge_distances = []\n",
    "        for node_idx, neighbor in enumerate(neighbors):\n",
    "            src_idx.extend([node_idx] * len(neighbor))\n",
    "            dest_idx.extend([site[2] for site in neighbor])\n",
    "            edge_distances.extend([site[1] for site in neighbor])\n",
    "\n",
    "        edge_idx = np.array([src_idx, dest_idx], dtype=int)\n",
    "\n",
    "        if self.step is None:\n",
    "            edge_features = np.array(edge_distances)\n",
    "        else:\n",
    "            edge_features = self._gaussian_filter(np.array(edge_distances, dtype=float))\n",
    "        return edge_idx, edge_features\n",
    "\n",
    "    def _gaussian_filter(self, distances: np.ndarray) -> np.ndarray:\n",
    "        \"\"\"Apply Gaussian filter to an array of interatomic distances.\n",
    "\n",
    "        Parameters\n",
    "        ----------\n",
    "        distances : np.ndarray\n",
    "                A numpy array of the shape `(num_edges, )`.\n",
    "        Returns\n",
    "        -------\n",
    "        expanded_distances: np.ndarray\n",
    "                Expanded distance tensor after Gaussian filtering.\n",
    "                The shape is `(num_edges, filter_length)`. The `filter_length` is\n",
    "                (self.radius / self.step) + 1.\n",
    "        \"\"\"\n",
    "        filt = np.arange(0, self.radius + self.step, self.step)\n",
    "\n",
    "        # Increase dimension of distance tensor and apply filter\n",
    "        expanded_distances = np.exp(-((distances[..., np.newaxis] - filt) ** 2) / self.step ** 2)\n",
    "\n",
    "        return expanded_distances\n"
   ]
  },
  {
   "cell_type": "markdown",
   "metadata": {},
   "source": [
    "We now implement a loader that will take the structures and labels. Some notes:\n",
    "\n",
    "- we convert to lists as the splitters by default return generators.\n"
   ]
  },
  {
   "cell_type": "code",
   "execution_count": 5,
   "metadata": {},
   "outputs": [],
   "source": [
    "class StructureDataLoader(_MolnetLoader):\n",
    "    \"\"\"StructureDataLoader loader.\n",
    "\n",
    "    This data loader assumes that there is a folder with subfolder `cifs`.\n",
    "    The `cifs` subfolders contains all the cif files to be loaded.\n",
    "\n",
    "    Labels are loaded from a json-serialized file in the folder which\n",
    "    name can be specfied with `label_file_name`.\n",
    "\n",
    "    Note that there will be errors if the structures do not _exactly_ match\n",
    "    the entries in the json file.\n",
    "\n",
    "    Parameters\n",
    "    ----------\n",
    "    featurizer : Union[dc.feat.Featurizer, str]\n",
    "            the featurizer to use for processing the data.  Alternatively you can pass\n",
    "            one of the names from dc.molnet.featurizers as a shortcut.\n",
    "    splitter : Union[dc.splits.Splitter, str], optional\n",
    "            the splitter to use for splitting the data into training, validation, and\n",
    "            test sets.  Alternatively you can pass one of the names from\n",
    "            dc.molnet.splitters as a shortcut.  If this is None, all the data\n",
    "            will be included in a single dataset.\n",
    "    transformer_generators : List[Union[TransformerGenerator, str]]\n",
    "            the Transformers to apply to the data.  Each one is specified by a\n",
    "            TransformerGenerator or, as a shortcut, one of the names from\n",
    "            dc.molnet.transformers.\n",
    "    tasks : List[str]\n",
    "            the names of the tasks in the dataset\n",
    "    data_dir : Optional[str]\n",
    "            a directory to save the raw data in\n",
    "    save_dir : Optional[str]\n",
    "            a directory to save the dataset in\n",
    "    label_file_name : Optional[str]\n",
    "            the name of the json file containing the labels. Defaults to `qmof.json`.\n",
    "    identifier_column : Optional[str]\n",
    "            the name of the column that contains the identifier of the structure.\n",
    "            Defaults to `qmof_id`.\n",
    "    \"\"\"\n",
    "\n",
    "    def __init__(\n",
    "        self,\n",
    "        structures: Iterable[Structure],\n",
    "        labels: Iterable[float],\n",
    "        idx: Iterable[int],\n",
    "        splitter: Union[str, dc.splits.Splitter] = None,  # \"random\",\n",
    "        transformer_generators: List[Union[str, TransformerGenerator]] = [\"normalization\"],\n",
    "        tasks: List[str] = [\"qmof\"],\n",
    "        data_dir: str = None,\n",
    "        save_dir: str = None,\n",
    "        number_files: int = np.infty,\n",
    "        shard_size: int = 8,\n",
    "        n_workers: int = 1,\n",
    "    ):\n",
    "        # we return IStructures, however, the featurizer wants structures.\n",
    "        self.structures = [[Structure.from_sites(s.sites)] for s in structures]\n",
    "\n",
    "        self.labels = (\n",
    "            np.array(list(labels)).reshape(-1, 1)\n",
    "            if labels is not None\n",
    "            else [np.nan] * len(self.structures)\n",
    "        )\n",
    "\n",
    "        self.idx = np.array(list(idx))\n",
    "\n",
    "        self.number_files = number_files\n",
    "\n",
    "        self.shard_size = shard_size\n",
    "        self.n_workers = n_workers\n",
    "\n",
    "        super().__init__(\n",
    "            featurizer=CrystalBondFeaturizer(),\n",
    "            splitter=splitter,\n",
    "            transformer_generators=transformer_generators,\n",
    "            tasks=tasks,\n",
    "            data_dir=data_dir,\n",
    "            save_dir=save_dir,\n",
    "        )\n",
    "\n",
    "    def create_dataset(self) -> Dataset:\n",
    "        \"\"\"Utilitary function to create the dataset.\"\"\"\n",
    "        loader = InMemoryLoader(\n",
    "            tasks=self.tasks,\n",
    "            featurizer=self.featurizer,\n",
    "        )\n",
    "\n",
    "        return loader.create_dataset(\n",
    "            list(zip(self.structures, self.labels)),\n",
    "            shard_size=self.shard_size,\n",
    "            #     n_workers=self.n_workers,\n",
    "        )\n"
   ]
  },
  {
   "cell_type": "markdown",
   "metadata": {},
   "source": [
    "Let's check our plumbing works.\n"
   ]
  },
  {
   "cell_type": "markdown",
   "metadata": {},
   "source": [
    "We initialize a bench class to access the dataset.\n"
   ]
  },
  {
   "cell_type": "code",
   "execution_count": 7,
   "metadata": {},
   "outputs": [
    {
     "name": "stderr",
     "output_type": "stream",
     "text": [
      "2022-08-16 08:37:08.980 | DEBUG    | mofdscribe.datasets.qmof_dataset:__init__:256 - Dropped 0 duplicate basenames. New length 15042\n",
      "2022-08-16 08:37:09.059 | DEBUG    | mofdscribe.datasets.qmof_dataset:__init__:262 - Dropped 136 duplicate graphs. New length 14906\n",
      "2022-08-16 08:37:19.795 | DEBUG    | mofdscribe.datasets.qmof_dataset:__init__:256 - Dropped 0 duplicate basenames. New length 15042\n",
      "2022-08-16 08:37:19.865 | DEBUG    | mofdscribe.datasets.qmof_dataset:__init__:262 - Dropped 136 duplicate graphs. New length 14906\n",
      "2022-08-16 08:37:20.094 | DEBUG    | mofdscribe.splitters.splitters:__init__:116 - Splitter settings | shuffle True, random state None, sample frac 0.01, q (0, 0.25, 0.5, 0.75, 1)\n"
     ]
    }
   ],
   "source": [
    "bench = PBEBandGapIDBench(model, \"test\", debug=True)\n"
   ]
  },
  {
   "cell_type": "code",
   "execution_count": 8,
   "metadata": {},
   "outputs": [],
   "source": [
    "# get some random indices\n",
    "indices = np.random.choice(np.arange(len(bench._ds)), 20)\n",
    "\n",
    "structures = list(bench._ds.get_structures(indices))\n",
    "labels = bench._ds._df[bench._targets].iloc[indices].values\n"
   ]
  },
  {
   "cell_type": "code",
   "execution_count": 9,
   "metadata": {},
   "outputs": [],
   "source": [
    "loader = StructureDataLoader(structures, labels, indices, data_dir=\"test-data\", save_dir=\"test\")\n"
   ]
  },
  {
   "cell_type": "code",
   "execution_count": 10,
   "metadata": {},
   "outputs": [],
   "source": [
    "ds = loader.load_dataset(\"qmof-test\", False)\n"
   ]
  },
  {
   "cell_type": "code",
   "execution_count": 11,
   "metadata": {},
   "outputs": [
    {
     "data": {
      "text/plain": [
       "(['qmof'],\n",
       " (<DiskDataset X.shape: (20,), y.shape: (20, 1), w.shape: (20, 1), ids: [0 1 2 ... 17 18 19], task_names: ['qmof']>,),\n",
       " [<deepchem.trans.transformers.NormalizationTransformer at 0x2a192ce20>])"
      ]
     },
     "execution_count": 11,
     "metadata": {},
     "output_type": "execute_result"
    }
   ],
   "source": [
    "ds\n"
   ]
  },
  {
   "cell_type": "code",
   "execution_count": 12,
   "metadata": {},
   "outputs": [
    {
     "name": "stderr",
     "output_type": "stream",
     "text": [
      "/Users/kevinmaikjablonka/miniconda3/envs/mofdscribe/lib/python3.8/site-packages/torch/autocast_mode.py:162: UserWarning: User provided device_type of 'cuda', but CUDA is not available. Disabling\n",
      "  warnings.warn('User provided device_type of \\'cuda\\', but CUDA is not available. Disabling')\n"
     ]
    },
    {
     "data": {
      "text/plain": [
       "0.16975947618484497"
      ]
     },
     "execution_count": 12,
     "metadata": {},
     "output_type": "execute_result"
    }
   ],
   "source": [
    "model.fit(ds[1][0])\n"
   ]
  },
  {
   "cell_type": "markdown",
   "metadata": {},
   "source": [
    "## Implementing a model class for `Bench`\n"
   ]
  },
  {
   "cell_type": "markdown",
   "metadata": {},
   "source": [
    "Now, that we now that the plumbing works, we only have to wrap it into a class.\n"
   ]
  },
  {
   "cell_type": "code",
   "execution_count": 13,
   "metadata": {},
   "outputs": [],
   "source": [
    "class MyCGCNNModel:\n",
    "    def __init__(self, model):\n",
    "        self.model = model\n",
    "        self.transformers = None\n",
    "        self._fitted = False\n",
    "\n",
    "    def _create_ds(self, structures, labels, indices):\n",
    "        loader = StructureDataLoader(structures, labels, indices, data_dir=None, save_dir=None)\n",
    "        # Deepchem likes to reload things, even if the content changed.\n",
    "        # To improve performance, you might want to pre-compute the graphs and then load them from\n",
    "        # disk in this step.\n",
    "        ds = loader.load_dataset(str(uuid.uuid1()), False)\n",
    "\n",
    "        return ds[1], ds[2]\n",
    "\n",
    "    def fit(self, idx, structures, y):\n",
    "        structures = list(structures)\n",
    "        datasets, transformers = self._create_ds(structures, y, idx)\n",
    "        self.transformers = transformers\n",
    "        self.model.fit(datasets[0])\n",
    "        self._fitted = True\n",
    "\n",
    "    def predict(self, idx, structures):\n",
    "        if not self._fitted:\n",
    "            raise Exception(\"Model not fitted\")\n",
    "        structures = list(structures)\n",
    "        datasets, transformers = self._create_ds(structures, None, idx)\n",
    "        datasets = transformers[0].transform(datasets[0])\n",
    "        logger.debug(\"Datset len {}\".format(len(datasets)))\n",
    "        pred = self.model.predict(datasets, transformers=self.transformers).flatten()\n",
    "        return pred\n"
   ]
  },
  {
   "cell_type": "code",
   "execution_count": 14,
   "metadata": {},
   "outputs": [],
   "source": [
    "mymodel = MyCGCNNModel(model)\n"
   ]
  },
  {
   "cell_type": "code",
   "execution_count": 15,
   "metadata": {},
   "outputs": [
    {
     "name": "stderr",
     "output_type": "stream",
     "text": [
      "/Users/kevinmaikjablonka/miniconda3/envs/mofdscribe/lib/python3.8/site-packages/torch/autocast_mode.py:162: UserWarning: User provided device_type of 'cuda', but CUDA is not available. Disabling\n",
      "  warnings.warn('User provided device_type of \\'cuda\\', but CUDA is not available. Disabling')\n"
     ]
    }
   ],
   "source": [
    "mymodel.fit(indices, structures, labels)\n"
   ]
  },
  {
   "cell_type": "code",
   "execution_count": 16,
   "metadata": {},
   "outputs": [
    {
     "name": "stderr",
     "output_type": "stream",
     "text": [
      "2022-08-16 08:38:56.538 | DEBUG    | __main__:predict:29 - Datset len 20\n"
     ]
    },
    {
     "data": {
      "text/plain": [
       "array([1.76906876, 1.64655768, 2.16257102, 1.42804826, 2.13805037,\n",
       "       2.05404935, 2.06023867, 2.45996961, 2.28364652, 1.69595277,\n",
       "       1.64224082, 1.57646053, 1.92568648, 2.06816744, 1.65583512,\n",
       "       1.57138615, 1.62099518, 2.08708934, 2.04884018, 2.40747122])"
      ]
     },
     "execution_count": 16,
     "metadata": {},
     "output_type": "execute_result"
    }
   ],
   "source": [
    "mymodel.predict(indices, structures)\n"
   ]
  },
  {
   "cell_type": "markdown",
   "metadata": {},
   "source": [
    "It seems to do something reasonable. So, let's try running it in the `Bench` (with `debug=True`, which runs the benchmark with only 1% of the data).\n"
   ]
  },
  {
   "cell_type": "code",
   "execution_count": 30,
   "metadata": {},
   "outputs": [
    {
     "name": "stderr",
     "output_type": "stream",
     "text": [
      "2022-08-02 13:57:32.673 | DEBUG    | mofdscribe.datasets.qmof_dataset:__init__:120 - Dropped 0 duplicate basenames. New length 15844\n",
      "2022-08-02 13:57:32.688 | DEBUG    | mofdscribe.datasets.qmof_dataset:__init__:126 - Dropped 153 duplicate graphs. New length 15691\n",
      "2022-08-02 13:57:33.504 | DEBUG    | mofdscribe.datasets.qmof_dataset:__init__:120 - Dropped 0 duplicate basenames. New length 15844\n",
      "2022-08-02 13:57:33.517 | DEBUG    | mofdscribe.datasets.qmof_dataset:__init__:126 - Dropped 153 duplicate graphs. New length 15691\n",
      "2022-08-02 13:57:33.567 | DEBUG    | mofdscribe.splitters.splitters:__init__:106 - Splitter settings | shuffle True, random state None, sample frac 0.01, q (0, 0.25, 0.5, 0.75, 1)\n"
     ]
    }
   ],
   "source": [
    "bench = PBEBandGapIDBench(\n",
    "    MyCGCNNModel(CGCNNModel(mode=\"regression\", in_edge_dim=16)),\n",
    "    \"deepchem-cgcnn-vesta-edges\",\n",
    "    features=\"n/a\",\n",
    "    model_type=\"CGCNN\",\n",
    "    debug=True,\n",
    ")\n"
   ]
  },
  {
   "cell_type": "code",
   "execution_count": 31,
   "metadata": {},
   "outputs": [
    {
     "name": "stderr",
     "output_type": "stream",
     "text": [
      "2022-08-02 13:57:34.628 | DEBUG    | mofdscribe.bench.mofbench:_score:190 - K-fold round 0, 128 train points, 28 test points\n",
      "/Users/kevinmaikjablonka/miniconda3/envs/mofdscribe/lib/python3.8/site-packages/pymatgen/io/cif.py:1155: UserWarning: Issues encountered while parsing CIF: Some fractional coordinates rounded to ideal values to avoid issues with finite precision.\n",
      "  warnings.warn(\"Issues encountered while parsing CIF: \" + \"\\n\".join(self.warnings))\n",
      "/Users/kevinmaikjablonka/miniconda3/envs/mofdscribe/lib/python3.8/site-packages/torch/autocast_mode.py:162: UserWarning: User provided device_type of 'cuda', but CUDA is not available. Disabling\n",
      "  warnings.warn('User provided device_type of \\'cuda\\', but CUDA is not available. Disabling')\n",
      "/Users/kevinmaikjablonka/miniconda3/envs/mofdscribe/lib/python3.8/site-packages/pymatgen/io/cif.py:1155: UserWarning: Issues encountered while parsing CIF: Some fractional coordinates rounded to ideal values to avoid issues with finite precision.\n",
      "  warnings.warn(\"Issues encountered while parsing CIF: \" + \"\\n\".join(self.warnings))\n",
      "2022-08-02 13:58:43.914 | DEBUG    | __main__:predict:29 - Datset len 28\n",
      "2022-08-02 13:58:43.956 | DEBUG    | mofdscribe.bench.mofbench:_score:190 - K-fold round 1, 128 train points, 28 test points\n",
      "/Users/kevinmaikjablonka/miniconda3/envs/mofdscribe/lib/python3.8/site-packages/pymatgen/io/cif.py:1155: UserWarning: Issues encountered while parsing CIF: Some fractional coordinates rounded to ideal values to avoid issues with finite precision.\n",
      "  warnings.warn(\"Issues encountered while parsing CIF: \" + \"\\n\".join(self.warnings))\n",
      "/Users/kevinmaikjablonka/miniconda3/envs/mofdscribe/lib/python3.8/site-packages/torch/autocast_mode.py:162: UserWarning: User provided device_type of 'cuda', but CUDA is not available. Disabling\n",
      "  warnings.warn('User provided device_type of \\'cuda\\', but CUDA is not available. Disabling')\n",
      "/Users/kevinmaikjablonka/miniconda3/envs/mofdscribe/lib/python3.8/site-packages/pymatgen/io/cif.py:1155: UserWarning: Issues encountered while parsing CIF: Some fractional coordinates rounded to ideal values to avoid issues with finite precision.\n",
      "  warnings.warn(\"Issues encountered while parsing CIF: \" + \"\\n\".join(self.warnings))\n",
      "2022-08-02 13:59:38.195 | DEBUG    | __main__:predict:29 - Datset len 28\n",
      "2022-08-02 13:59:38.238 | DEBUG    | mofdscribe.bench.mofbench:_score:190 - K-fold round 2, 125 train points, 31 test points\n",
      "/Users/kevinmaikjablonka/miniconda3/envs/mofdscribe/lib/python3.8/site-packages/pymatgen/io/cif.py:1155: UserWarning: Issues encountered while parsing CIF: Some fractional coordinates rounded to ideal values to avoid issues with finite precision.\n",
      "  warnings.warn(\"Issues encountered while parsing CIF: \" + \"\\n\".join(self.warnings))\n",
      "/Users/kevinmaikjablonka/miniconda3/envs/mofdscribe/lib/python3.8/site-packages/torch/autocast_mode.py:162: UserWarning: User provided device_type of 'cuda', but CUDA is not available. Disabling\n",
      "  warnings.warn('User provided device_type of \\'cuda\\', but CUDA is not available. Disabling')\n",
      "/Users/kevinmaikjablonka/miniconda3/envs/mofdscribe/lib/python3.8/site-packages/pymatgen/io/cif.py:1155: UserWarning: Issues encountered while parsing CIF: Some fractional coordinates rounded to ideal values to avoid issues with finite precision.\n",
      "  warnings.warn(\"Issues encountered while parsing CIF: \" + \"\\n\".join(self.warnings))\n",
      "2022-08-02 14:00:31.989 | DEBUG    | __main__:predict:29 - Datset len 31\n",
      "2022-08-02 14:00:32.029 | DEBUG    | mofdscribe.bench.mofbench:_score:190 - K-fold round 3, 127 train points, 29 test points\n",
      "/Users/kevinmaikjablonka/miniconda3/envs/mofdscribe/lib/python3.8/site-packages/pymatgen/io/cif.py:1155: UserWarning: Issues encountered while parsing CIF: Some fractional coordinates rounded to ideal values to avoid issues with finite precision.\n",
      "  warnings.warn(\"Issues encountered while parsing CIF: \" + \"\\n\".join(self.warnings))\n",
      "/Users/kevinmaikjablonka/miniconda3/envs/mofdscribe/lib/python3.8/site-packages/torch/autocast_mode.py:162: UserWarning: User provided device_type of 'cuda', but CUDA is not available. Disabling\n",
      "  warnings.warn('User provided device_type of \\'cuda\\', but CUDA is not available. Disabling')\n",
      "2022-08-02 14:01:33.227 | DEBUG    | __main__:predict:29 - Datset len 29\n",
      "2022-08-02 14:01:33.271 | DEBUG    | mofdscribe.bench.mofbench:_score:190 - K-fold round 4, 117 train points, 39 test points\n",
      "/Users/kevinmaikjablonka/miniconda3/envs/mofdscribe/lib/python3.8/site-packages/pymatgen/io/cif.py:1155: UserWarning: Issues encountered while parsing CIF: Some fractional coordinates rounded to ideal values to avoid issues with finite precision.\n",
      "  warnings.warn(\"Issues encountered while parsing CIF: \" + \"\\n\".join(self.warnings))\n",
      "/Users/kevinmaikjablonka/miniconda3/envs/mofdscribe/lib/python3.8/site-packages/torch/autocast_mode.py:162: UserWarning: User provided device_type of 'cuda', but CUDA is not available. Disabling\n",
      "  warnings.warn('User provided device_type of \\'cuda\\', but CUDA is not available. Disabling')\n",
      "/Users/kevinmaikjablonka/miniconda3/envs/mofdscribe/lib/python3.8/site-packages/pymatgen/io/cif.py:1155: UserWarning: Issues encountered while parsing CIF: Some fractional coordinates rounded to ideal values to avoid issues with finite precision.\n",
      "  warnings.warn(\"Issues encountered while parsing CIF: \" + \"\\n\".join(self.warnings))\n",
      "2022-08-02 14:02:34.742 | DEBUG    | __main__:predict:29 - Datset len 39\n"
     ]
    }
   ],
   "source": [
    "report = bench.bench()\n"
   ]
  },
  {
   "cell_type": "code",
   "execution_count": 34,
   "metadata": {},
   "outputs": [
    {
     "data": {
      "text/plain": [
       "BenchResult(start_time=datetime.datetime(2022, 8, 2, 11, 57, 33, 635334, tzinfo=datetime.timezone.utc), end_time=datetime.datetime(2022, 8, 2, 12, 2, 34, 792392, tzinfo=datetime.timezone.utc), metrics=RegressionMetricCollection(regression_metrics=[RegressionMetrics(mean_squared_error=1.0472316550218441, mean_absolute_error=0.8838351196121169, r2_score=0.05848829701812652, max_error=2.080018412271101, mean_absolute_percentage_error=0.7899650207873089, top_5_in_top_5=0, top_10_in_top_10=1, top_50_in_top_50=1, top_100_in_top_100=1, top_500_in_top_500=1), RegressionMetrics(mean_squared_error=1.0824931011805925, mean_absolute_error=0.8779317214402516, r2_score=0.41164418914671375, max_error=2.0744940787669943, mean_absolute_percentage_error=1.3785416950726006, top_5_in_top_5=1, top_10_in_top_10=1, top_50_in_top_50=1, top_100_in_top_100=1, top_500_in_top_500=1), RegressionMetrics(mean_squared_error=1.044226503252123, mean_absolute_error=0.8482118945912059, r2_score=0.3278387849116352, max_error=2.0382734133206166, mean_absolute_percentage_error=5.718174536695627, top_5_in_top_5=1, top_10_in_top_10=1, top_50_in_top_50=1, top_100_in_top_100=1, top_500_in_top_500=1), RegressionMetrics(mean_squared_error=0.8575353288972226, mean_absolute_error=0.6415375070457249, r2_score=0.5072275404420501, max_error=3.5473457295150386, mean_absolute_percentage_error=0.583346425637418, top_5_in_top_5=0, top_10_in_top_10=0, top_50_in_top_50=1, top_100_in_top_100=1, top_500_in_top_500=1), RegressionMetrics(mean_squared_error=0.6230824933484307, mean_absolute_error=0.5861116623536644, r2_score=0.6299665287478609, max_error=2.193874643236122, mean_absolute_percentage_error=0.7323250041835505, top_5_in_top_5=0, top_10_in_top_10=0, top_50_in_top_50=1, top_100_in_top_100=1, top_500_in_top_500=1)], fit_timings=[56.43275713920593, 42.74500393867493, 46.38274312019348, 46.44905710220337, 47.465826988220215], inference_timings=[12.891396760940552, 11.533751726150513, 7.404587745666504, 14.789423942565918, 14.053468942642212]), version='v0.0.1', features='n/a', name='deepchem-cgcnn-vesta-edges', task=<BenchTaskEnum.pbe_bandgap: 'pbe_bandgap'>, model_type='CGCNN', reference=None, implementation=None, mofdscribe_version='0.0.1-dev')"
      ]
     },
     "execution_count": 34,
     "metadata": {},
     "output_type": "execute_result"
    }
   ],
   "source": [
    "report\n"
   ]
  },
  {
   "cell_type": "markdown",
   "metadata": {},
   "source": [
    "Now, let's see how we can create a report file for the leaderboard.\n"
   ]
  },
  {
   "cell_type": "code",
   "execution_count": 33,
   "metadata": {},
   "outputs": [],
   "source": [
    "report.save_json(\"test-deepchem\")\n"
   ]
  },
  {
   "cell_type": "markdown",
   "metadata": {},
   "source": [
    "Now, that we seem to get some reasonable results. For this, we'll run the full pipeline in a Python script as this is more handy for use on computing clusters (with multiprocessing).\n"
   ]
  },
  {
   "cell_type": "code",
   "execution_count": 20,
   "metadata": {},
   "outputs": [
    {
     "name": "stderr",
     "output_type": "stream",
     "text": [
      "2022-08-16 21:23:48.411 | DEBUG    | mofdscribe.datasets.qmof_dataset:__init__:256 - Dropped 0 duplicate basenames. New length 15042\n",
      "2022-08-16 21:23:48.508 | DEBUG    | mofdscribe.datasets.qmof_dataset:__init__:262 - Dropped 136 duplicate graphs. New length 14906\n",
      "2022-08-16 21:24:03.109 | DEBUG    | mofdscribe.datasets.qmof_dataset:__init__:256 - Dropped 0 duplicate basenames. New length 15042\n",
      "2022-08-16 21:24:03.197 | DEBUG    | mofdscribe.datasets.qmof_dataset:__init__:262 - Dropped 136 duplicate graphs. New length 14906\n",
      "2022-08-16 21:24:03.463 | DEBUG    | mofdscribe.splitters.splitters:__init__:116 - Splitter settings | shuffle True, random state None, sample frac 1.0, q (0, 0.25, 0.5, 0.75, 1)\n"
     ]
    }
   ],
   "source": [
    "bench = PBEBandGapIDBench(\n",
    "    MyCGCNNModel(CGCNNModel(mode=\"regression\", num_conv=4, in_edge_dim=16)),\n",
    "    \"deepchem-cgcnn-vesta-edges\",\n",
    "    features=\"n/a\",\n",
    "    model_type=\"CGCNN\",\n",
    "    debug=False,\n",
    ")\n"
   ]
  },
  {
   "cell_type": "code",
   "execution_count": 21,
   "metadata": {},
   "outputs": [
    {
     "name": "stderr",
     "output_type": "stream",
     "text": [
      "2022-08-16 21:29:31.813 | DEBUG    | mofdscribe.bench.mofbench:_score:322 - K-fold round 0, 1012 train points, 261 test points\n",
      "/Users/kevinmaikjablonka/miniconda3/envs/mofdscribe/lib/python3.8/site-packages/pymatgen/io/cif.py:1155: UserWarning: Issues encountered while parsing CIF: Some fractional coordinates rounded to ideal values to avoid issues with finite precision.\n",
      "  warnings.warn(\"Issues encountered while parsing CIF: \" + \"\\n\".join(self.warnings))\n",
      "/Users/kevinmaikjablonka/miniconda3/envs/mofdscribe/lib/python3.8/site-packages/torch/autocast_mode.py:162: UserWarning: User provided device_type of 'cuda', but CUDA is not available. Disabling\n",
      "  warnings.warn('User provided device_type of \\'cuda\\', but CUDA is not available. Disabling')\n",
      "/Users/kevinmaikjablonka/miniconda3/envs/mofdscribe/lib/python3.8/site-packages/pymatgen/io/cif.py:1155: UserWarning: Issues encountered while parsing CIF: Some fractional coordinates rounded to ideal values to avoid issues with finite precision.\n",
      "  warnings.warn(\"Issues encountered while parsing CIF: \" + \"\\n\".join(self.warnings))\n",
      "2022-08-16 21:44:18.052 | DEBUG    | __main__:predict:29 - Datset len 261\n",
      "2022-08-16 21:44:18.630 | DEBUG    | mofdscribe.bench.mofbench:_score:322 - K-fold round 1, 1024 train points, 249 test points\n",
      "/Users/kevinmaikjablonka/miniconda3/envs/mofdscribe/lib/python3.8/site-packages/pymatgen/io/cif.py:1155: UserWarning: Issues encountered while parsing CIF: Some fractional coordinates rounded to ideal values to avoid issues with finite precision.\n",
      "  warnings.warn(\"Issues encountered while parsing CIF: \" + \"\\n\".join(self.warnings))\n",
      "/Users/kevinmaikjablonka/miniconda3/envs/mofdscribe/lib/python3.8/site-packages/torch/autocast_mode.py:162: UserWarning: User provided device_type of 'cuda', but CUDA is not available. Disabling\n",
      "  warnings.warn('User provided device_type of \\'cuda\\', but CUDA is not available. Disabling')\n",
      "/Users/kevinmaikjablonka/miniconda3/envs/mofdscribe/lib/python3.8/site-packages/pymatgen/io/cif.py:1155: UserWarning: Issues encountered while parsing CIF: Some fractional coordinates rounded to ideal values to avoid issues with finite precision.\n",
      "  warnings.warn(\"Issues encountered while parsing CIF: \" + \"\\n\".join(self.warnings))\n",
      "2022-08-16 21:58:45.738 | DEBUG    | __main__:predict:29 - Datset len 249\n",
      "2022-08-16 21:58:46.347 | DEBUG    | mofdscribe.bench.mofbench:_score:322 - K-fold round 2, 1003 train points, 270 test points\n",
      "/Users/kevinmaikjablonka/miniconda3/envs/mofdscribe/lib/python3.8/site-packages/pymatgen/io/cif.py:1155: UserWarning: Issues encountered while parsing CIF: Some fractional coordinates rounded to ideal values to avoid issues with finite precision.\n",
      "  warnings.warn(\"Issues encountered while parsing CIF: \" + \"\\n\".join(self.warnings))\n",
      "/Users/kevinmaikjablonka/miniconda3/envs/mofdscribe/lib/python3.8/site-packages/torch/autocast_mode.py:162: UserWarning: User provided device_type of 'cuda', but CUDA is not available. Disabling\n",
      "  warnings.warn('User provided device_type of \\'cuda\\', but CUDA is not available. Disabling')\n",
      "/Users/kevinmaikjablonka/miniconda3/envs/mofdscribe/lib/python3.8/site-packages/pymatgen/io/cif.py:1155: UserWarning: Issues encountered while parsing CIF: Some fractional coordinates rounded to ideal values to avoid issues with finite precision.\n",
      "  warnings.warn(\"Issues encountered while parsing CIF: \" + \"\\n\".join(self.warnings))\n",
      "2022-08-16 22:13:32.636 | DEBUG    | __main__:predict:29 - Datset len 270\n",
      "2022-08-16 22:13:33.153 | DEBUG    | mofdscribe.bench.mofbench:_score:322 - K-fold round 3, 1022 train points, 251 test points\n",
      "/Users/kevinmaikjablonka/miniconda3/envs/mofdscribe/lib/python3.8/site-packages/pymatgen/io/cif.py:1155: UserWarning: Issues encountered while parsing CIF: Some fractional coordinates rounded to ideal values to avoid issues with finite precision.\n",
      "  warnings.warn(\"Issues encountered while parsing CIF: \" + \"\\n\".join(self.warnings))\n",
      "/Users/kevinmaikjablonka/miniconda3/envs/mofdscribe/lib/python3.8/site-packages/torch/autocast_mode.py:162: UserWarning: User provided device_type of 'cuda', but CUDA is not available. Disabling\n",
      "  warnings.warn('User provided device_type of \\'cuda\\', but CUDA is not available. Disabling')\n",
      "/Users/kevinmaikjablonka/miniconda3/envs/mofdscribe/lib/python3.8/site-packages/pymatgen/io/cif.py:1155: UserWarning: Issues encountered while parsing CIF: Some fractional coordinates rounded to ideal values to avoid issues with finite precision.\n",
      "  warnings.warn(\"Issues encountered while parsing CIF: \" + \"\\n\".join(self.warnings))\n",
      "2022-08-16 22:28:28.088 | DEBUG    | __main__:predict:29 - Datset len 251\n",
      "2022-08-16 22:28:28.486 | DEBUG    | mofdscribe.bench.mofbench:_score:322 - K-fold round 4, 1031 train points, 242 test points\n",
      "/Users/kevinmaikjablonka/miniconda3/envs/mofdscribe/lib/python3.8/site-packages/pymatgen/io/cif.py:1155: UserWarning: Issues encountered while parsing CIF: Some fractional coordinates rounded to ideal values to avoid issues with finite precision.\n",
      "  warnings.warn(\"Issues encountered while parsing CIF: \" + \"\\n\".join(self.warnings))\n",
      "/Users/kevinmaikjablonka/miniconda3/envs/mofdscribe/lib/python3.8/site-packages/torch/autocast_mode.py:162: UserWarning: User provided device_type of 'cuda', but CUDA is not available. Disabling\n",
      "  warnings.warn('User provided device_type of \\'cuda\\', but CUDA is not available. Disabling')\n",
      "/Users/kevinmaikjablonka/miniconda3/envs/mofdscribe/lib/python3.8/site-packages/pymatgen/io/cif.py:1155: UserWarning: Issues encountered while parsing CIF: Some fractional coordinates rounded to ideal values to avoid issues with finite precision.\n",
      "  warnings.warn(\"Issues encountered while parsing CIF: \" + \"\\n\".join(self.warnings))\n",
      "2022-08-16 22:40:51.854 | DEBUG    | __main__:predict:29 - Datset len 242\n"
     ]
    }
   ],
   "source": [
    "report = bench.bench()\n"
   ]
  },
  {
   "cell_type": "code",
   "execution_count": 23,
   "metadata": {},
   "outputs": [],
   "source": [
    "report.save_json('/Users/kevinmaikjablonka/git/kjappelbaum/mofdscribe/bench_results/pbe_bandgap_id')"
   ]
  },
  {
   "cell_type": "code",
   "execution_count": 24,
   "metadata": {},
   "outputs": [],
   "source": [
    "report.save_rst('/Users/kevinmaikjablonka/git/kjappelbaum/mofdscribe/bench_results/pbe_bandgap_id')"
   ]
  },
  {
   "cell_type": "code",
   "execution_count": null,
   "metadata": {},
   "outputs": [],
   "source": []
  }
 ],
 "metadata": {
  "kernelspec": {
   "display_name": "Python 3.8.13 ('mofdscribe')",
   "language": "python",
   "name": "python3"
  },
  "language_info": {
   "codemirror_mode": {
    "name": "ipython",
    "version": 3
   },
   "file_extension": ".py",
   "mimetype": "text/x-python",
   "name": "python",
   "nbconvert_exporter": "python",
   "pygments_lexer": "ipython3",
   "version": "3.8.13"
  },
  "orig_nbformat": 4,
  "vscode": {
   "interpreter": {
    "hash": "3ffc06f754d7c80b59e39914e7792f1f92938dc6ca13a8ff96847f8f4d27fee3"
   }
  }
 },
 "nbformat": 4,
 "nbformat_minor": 2
}
