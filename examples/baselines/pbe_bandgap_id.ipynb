{
 "cells": [
  {
   "cell_type": "markdown",
   "metadata": {},
   "source": [
    "# Running MOFBench baselines for the `pbe_bandgap_id` task"
   ]
  },
  {
   "cell_type": "code",
   "execution_count": 1,
   "metadata": {},
   "outputs": [],
   "source": [
    "%load_ext autoreload\n",
    "%autoreload 2"
   ]
  },
  {
   "cell_type": "code",
   "execution_count": 2,
   "metadata": {},
   "outputs": [],
   "source": [
    "from mofdscribe.bench.dummy_models import DummyRegressor\n",
    "from mofdscribe.bench.df_model import DFModel\n",
    "from mofdscribe.bench.pbegap import PBEBandGapIDBench\n",
    "\n",
    "from xgboost import XGBRegressor"
   ]
  },
  {
   "cell_type": "code",
   "execution_count": 3,
   "metadata": {},
   "outputs": [
    {
     "name": "stderr",
     "output_type": "stream",
     "text": [
      "2022-08-08 23:53:11.137 | DEBUG    | mofdscribe.datasets.qmof_dataset:__init__:256 - Dropped 0 duplicate basenames. New length 15042\n",
      "2022-08-08 23:53:11.225 | DEBUG    | mofdscribe.datasets.qmof_dataset:__init__:262 - Dropped 136 duplicate graphs. New length 14906\n",
      "2022-08-08 23:53:24.488 | DEBUG    | mofdscribe.datasets.qmof_dataset:__init__:256 - Dropped 0 duplicate basenames. New length 15042\n",
      "2022-08-08 23:53:24.649 | DEBUG    | mofdscribe.datasets.qmof_dataset:__init__:262 - Dropped 136 duplicate graphs. New length 14906\n",
      "2022-08-08 23:53:24.910 | DEBUG    | mofdscribe.splitters.splitters:__init__:116 - Splitter settings | shuffle True, random state None, sample frac 1.0, q (0, 0.25, 0.5, 0.75, 1)\n"
     ]
    }
   ],
   "source": [
    "dummy_mean_bench = PBEBandGapIDBench(DummyRegressor(),\n",
    "    name = 'dummy-mean-model',\n",
    "    features='None', \n",
    "    implementation='mofdscribe',\n",
    "    model_type='dummy'\n",
    ")"
   ]
  },
  {
   "cell_type": "code",
   "execution_count": 4,
   "metadata": {},
   "outputs": [
    {
     "name": "stderr",
     "output_type": "stream",
     "text": [
      "2022-08-08 23:54:39.722 | DEBUG    | mofdscribe.bench.mofbench:_score:282 - K-fold round 0, 1011 train points, 262 test points\n",
      "2022-08-08 23:54:39.726 | DEBUG    | mofdscribe.bench.mofbench:_score:282 - K-fold round 1, 1020 train points, 253 test points\n",
      "2022-08-08 23:54:39.729 | DEBUG    | mofdscribe.bench.mofbench:_score:282 - K-fold round 2, 1030 train points, 243 test points\n",
      "2022-08-08 23:54:39.732 | DEBUG    | mofdscribe.bench.mofbench:_score:282 - K-fold round 3, 1008 train points, 265 test points\n",
      "2022-08-08 23:54:39.735 | DEBUG    | mofdscribe.bench.mofbench:_score:282 - K-fold round 4, 1023 train points, 250 test points\n"
     ]
    }
   ],
   "source": [
    "dummy_mean_bench_results = dummy_mean_bench.bench()"
   ]
  },
  {
   "cell_type": "code",
   "execution_count": 5,
   "metadata": {},
   "outputs": [],
   "source": [
    "dummy_mean_bench_results.save_json('../../bench_results/pbe_bandgap_id')\n",
    "dummy_mean_bench_results.save_rst('../../bench_results/pbe_bandgap_id')"
   ]
  },
  {
   "cell_type": "code",
   "execution_count": 6,
   "metadata": {},
   "outputs": [
    {
     "name": "stderr",
     "output_type": "stream",
     "text": [
      "2022-08-08 23:57:48.288 | DEBUG    | mofdscribe.datasets.qmof_dataset:__init__:256 - Dropped 0 duplicate basenames. New length 15042\n",
      "2022-08-08 23:57:48.383 | DEBUG    | mofdscribe.datasets.qmof_dataset:__init__:262 - Dropped 136 duplicate graphs. New length 14906\n",
      "2022-08-08 23:58:02.920 | DEBUG    | mofdscribe.datasets.qmof_dataset:__init__:256 - Dropped 0 duplicate basenames. New length 15042\n",
      "2022-08-08 23:58:03.010 | DEBUG    | mofdscribe.datasets.qmof_dataset:__init__:262 - Dropped 136 duplicate graphs. New length 14906\n",
      "2022-08-08 23:58:03.282 | DEBUG    | mofdscribe.splitters.splitters:__init__:116 - Splitter settings | shuffle True, random state None, sample frac 1.0, q (0, 0.25, 0.5, 0.75, 1)\n"
     ]
    }
   ],
   "source": [
    "dummy_median_bench = PBEBandGapIDBench(DummyRegressor(),\n",
    "    name = 'dummy-median-model',\n",
    "    features='None',\n",
    "    implementation='mofdscribe',\n",
    "    model_type='dummy'\n",
    ")"
   ]
  },
  {
   "cell_type": "code",
   "execution_count": 7,
   "metadata": {},
   "outputs": [
    {
     "name": "stderr",
     "output_type": "stream",
     "text": [
      "2022-08-08 23:58:42.799 | DEBUG    | mofdscribe.bench.mofbench:_score:282 - K-fold round 0, 1028 train points, 245 test points\n",
      "2022-08-08 23:58:42.802 | DEBUG    | mofdscribe.bench.mofbench:_score:282 - K-fold round 1, 1024 train points, 249 test points\n",
      "2022-08-08 23:58:42.805 | DEBUG    | mofdscribe.bench.mofbench:_score:282 - K-fold round 2, 1033 train points, 240 test points\n",
      "2022-08-08 23:58:42.807 | DEBUG    | mofdscribe.bench.mofbench:_score:282 - K-fold round 3, 1001 train points, 272 test points\n",
      "2022-08-08 23:58:42.810 | DEBUG    | mofdscribe.bench.mofbench:_score:282 - K-fold round 4, 1006 train points, 267 test points\n"
     ]
    }
   ],
   "source": [
    "dummy_median_bench_results = dummy_median_bench.bench()"
   ]
  },
  {
   "cell_type": "code",
   "execution_count": 8,
   "metadata": {},
   "outputs": [],
   "source": [
    "dummy_median_bench_results.save_json('../../bench_results/pbe_bandgap_id')\n",
    "dummy_median_bench_results.save_rst('../../bench_results/pbe_bandgap_id')"
   ]
  },
  {
   "cell_type": "markdown",
   "metadata": {},
   "source": [
    "Now, let's use a slightly more fancy model"
   ]
  },
  {
   "cell_type": "code",
   "execution_count": 9,
   "metadata": {},
   "outputs": [
    {
     "name": "stderr",
     "output_type": "stream",
     "text": [
      "2022-08-08 23:59:02.557 | DEBUG    | mofdscribe.datasets.qmof_dataset:__init__:256 - Dropped 0 duplicate basenames. New length 15042\n",
      "2022-08-08 23:59:02.739 | DEBUG    | mofdscribe.datasets.qmof_dataset:__init__:262 - Dropped 136 duplicate graphs. New length 14906\n",
      "2022-08-08 23:59:16.387 | DEBUG    | mofdscribe.datasets.qmof_dataset:__init__:256 - Dropped 0 duplicate basenames. New length 15042\n",
      "2022-08-08 23:59:16.480 | DEBUG    | mofdscribe.datasets.qmof_dataset:__init__:262 - Dropped 136 duplicate graphs. New length 14906\n",
      "2022-08-08 23:59:16.742 | DEBUG    | mofdscribe.splitters.splitters:__init__:116 - Splitter settings | shuffle True, random state None, sample frac 1.0, q (0, 0.25, 0.5, 0.75, 1)\n"
     ]
    }
   ],
   "source": [
    "xgboost_default_baseline = PBEBandGapIDBench(DFModel(XGBRegressor()),\n",
    "    name=\"default-xgboost-default-feat\", \n",
    "    features='default featurset of dataset',\n",
    "    implementation='mofdscribe',\n",
    "    patch_in_ds=True\n",
    ")"
   ]
  },
  {
   "cell_type": "code",
   "execution_count": 10,
   "metadata": {},
   "outputs": [
    {
     "name": "stderr",
     "output_type": "stream",
     "text": [
      "2022-08-08 23:59:17.059 | DEBUG    | mofdscribe.bench.mofbench:_score:282 - K-fold round 0, 1017 train points, 256 test points\n",
      "2022-08-08 23:59:17.060 | DEBUG    | mofdscribe.bench.df_model:fit:36 - Fitting model\n",
      "2022-08-08 23:59:17.077 | DEBUG    | mofdscribe.bench.df_model:fit:38 - (1017, 2387)\n",
      "2022-08-08 23:59:24.386 | DEBUG    | mofdscribe.bench.mofbench:_score:282 - K-fold round 1, 1005 train points, 268 test points\n",
      "2022-08-08 23:59:24.387 | DEBUG    | mofdscribe.bench.df_model:fit:36 - Fitting model\n",
      "2022-08-08 23:59:24.397 | DEBUG    | mofdscribe.bench.df_model:fit:38 - (1005, 2387)\n",
      "2022-08-08 23:59:33.293 | DEBUG    | mofdscribe.bench.mofbench:_score:282 - K-fold round 2, 1021 train points, 252 test points\n",
      "2022-08-08 23:59:33.294 | DEBUG    | mofdscribe.bench.df_model:fit:36 - Fitting model\n",
      "2022-08-08 23:59:33.304 | DEBUG    | mofdscribe.bench.df_model:fit:38 - (1021, 2387)\n",
      "2022-08-08 23:59:43.138 | DEBUG    | mofdscribe.bench.mofbench:_score:282 - K-fold round 3, 1022 train points, 251 test points\n",
      "2022-08-08 23:59:43.139 | DEBUG    | mofdscribe.bench.df_model:fit:36 - Fitting model\n",
      "2022-08-08 23:59:43.148 | DEBUG    | mofdscribe.bench.df_model:fit:38 - (1022, 2387)\n",
      "2022-08-08 23:59:52.037 | DEBUG    | mofdscribe.bench.mofbench:_score:282 - K-fold round 4, 1027 train points, 246 test points\n",
      "2022-08-08 23:59:52.038 | DEBUG    | mofdscribe.bench.df_model:fit:36 - Fitting model\n",
      "2022-08-08 23:59:52.049 | DEBUG    | mofdscribe.bench.df_model:fit:38 - (1027, 2387)\n"
     ]
    }
   ],
   "source": [
    "xgboost_default_baseline_results = xgboost_default_baseline.bench()"
   ]
  },
  {
   "cell_type": "code",
   "execution_count": 11,
   "metadata": {},
   "outputs": [],
   "source": [
    "xgboost_default_baseline_results.save_json('../../bench_results/pbe_bandgap_id')\n",
    "xgboost_default_baseline_results.save_rst('../../bench_results/pbe_bandgap_id')"
   ]
  },
  {
   "cell_type": "code",
   "execution_count": null,
   "metadata": {},
   "outputs": [],
   "source": []
  }
 ],
 "metadata": {
  "kernelspec": {
   "display_name": "Python 3.8.13 ('mofdscribe')",
   "language": "python",
   "name": "python3"
  },
  "language_info": {
   "codemirror_mode": {
    "name": "ipython",
    "version": 3
   },
   "file_extension": ".py",
   "mimetype": "text/x-python",
   "name": "python",
   "nbconvert_exporter": "python",
   "pygments_lexer": "ipython3",
   "version": "3.8.13"
  },
  "orig_nbformat": 4,
  "vscode": {
   "interpreter": {
    "hash": "3ffc06f754d7c80b59e39914e7792f1f92938dc6ca13a8ff96847f8f4d27fee3"
   }
  }
 },
 "nbformat": 4,
 "nbformat_minor": 2
}
