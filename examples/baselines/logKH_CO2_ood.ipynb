{
 "cells": [
  {
   "cell_type": "markdown",
   "metadata": {},
   "source": [
    "# Running MOFBench baselines for the `logKH_CO2_ood` task"
   ]
  },
  {
   "cell_type": "code",
   "execution_count": 1,
   "metadata": {},
   "outputs": [],
   "source": [
    "%load_ext autoreload\n",
    "%autoreload 2"
   ]
  },
  {
   "cell_type": "code",
   "execution_count": 2,
   "metadata": {},
   "outputs": [],
   "source": [
    "from mofdscribe.bench.dummy_models import DummyRegressor\n",
    "from mofdscribe.bench.df_model import DFModel\n",
    "from mofdscribe.bench.logkHCO2 import LogkHCO2OODBench\n",
    "from mofdscribe.datasets import CoREDataset\n",
    "from xgboost import XGBRegressor"
   ]
  },
  {
   "cell_type": "code",
   "execution_count": 3,
   "metadata": {},
   "outputs": [
    {
     "name": "stderr",
     "output_type": "stream",
     "text": [
      "2022-08-08 22:54:47.137 | DEBUG    | mofdscribe.datasets.core_dataset:__init__:127 - Dropped 3227 duplicate basenames. New length 2166\n",
      "2022-08-08 22:54:47.175 | DEBUG    | mofdscribe.datasets.core_dataset:__init__:133 - Dropped 62 duplicate graphs. New length 2104\n",
      "2022-08-08 22:54:51.702 | DEBUG    | mofdscribe.datasets.core_dataset:__init__:127 - Dropped 3227 duplicate basenames. New length 2166\n",
      "2022-08-08 22:54:51.800 | DEBUG    | mofdscribe.datasets.core_dataset:__init__:133 - Dropped 62 duplicate graphs. New length 2104\n",
      "2022-08-08 22:54:51.814 | DEBUG    | mofdscribe.splitters.splitters:__init__:116 - Splitter settings | shuffle True, random state None, sample frac 1.0, q (0, 0.25, 0.5, 0.75, 1)\n"
     ]
    }
   ],
   "source": [
    "dummy_mean_bench = LogkHCO2OODBench(DummyRegressor(),\n",
    "    name = 'dummy-mean-model',\n",
    "    features='None', \n",
    "    implementation='mofdscribe',\n",
    "    model_type='dummy'\n",
    ")"
   ]
  },
  {
   "cell_type": "code",
   "execution_count": 4,
   "metadata": {},
   "outputs": [
    {
     "name": "stderr",
     "output_type": "stream",
     "text": [
      "2022-08-08 22:54:51.971 | DEBUG    | mofdscribe.bench.mofbench:_score:282 - K-fold round 0, 1683 train points, 421 test points\n",
      "2022-08-08 22:54:51.975 | DEBUG    | mofdscribe.bench.mofbench:_score:282 - K-fold round 1, 1683 train points, 421 test points\n",
      "2022-08-08 22:54:51.977 | DEBUG    | mofdscribe.bench.mofbench:_score:282 - K-fold round 2, 1683 train points, 421 test points\n",
      "2022-08-08 22:54:51.979 | DEBUG    | mofdscribe.bench.mofbench:_score:282 - K-fold round 3, 1683 train points, 421 test points\n",
      "2022-08-08 22:54:51.982 | DEBUG    | mofdscribe.bench.mofbench:_score:282 - K-fold round 4, 1684 train points, 420 test points\n"
     ]
    }
   ],
   "source": [
    "dummy_mean_bench_results = dummy_mean_bench.bench()"
   ]
  },
  {
   "cell_type": "code",
   "execution_count": 5,
   "metadata": {},
   "outputs": [],
   "source": [
    "dummy_mean_bench_results.save_json('../../bench_results/logKH_CO2_ood')\n",
    "dummy_mean_bench_results.save_rst('../../bench_results/logKH_CO2_ood')"
   ]
  },
  {
   "cell_type": "code",
   "execution_count": 6,
   "metadata": {},
   "outputs": [
    {
     "name": "stderr",
     "output_type": "stream",
     "text": [
      "2022-08-08 22:55:16.342 | DEBUG    | mofdscribe.datasets.core_dataset:__init__:127 - Dropped 3227 duplicate basenames. New length 2166\n",
      "2022-08-08 22:55:16.379 | DEBUG    | mofdscribe.datasets.core_dataset:__init__:133 - Dropped 62 duplicate graphs. New length 2104\n",
      "2022-08-08 22:55:21.228 | DEBUG    | mofdscribe.datasets.core_dataset:__init__:127 - Dropped 3227 duplicate basenames. New length 2166\n",
      "2022-08-08 22:55:21.268 | DEBUG    | mofdscribe.datasets.core_dataset:__init__:133 - Dropped 62 duplicate graphs. New length 2104\n",
      "2022-08-08 22:55:21.281 | DEBUG    | mofdscribe.splitters.splitters:__init__:116 - Splitter settings | shuffle True, random state None, sample frac 1.0, q (0, 0.25, 0.5, 0.75, 1)\n"
     ]
    }
   ],
   "source": [
    "dummy_median_bench = LogkHCO2OODBench(DummyRegressor(),\n",
    "    name = 'dummy-median-model',\n",
    "    features='None',\n",
    "    implementation='mofdscribe',\n",
    "    model_type='dummy'\n",
    ")"
   ]
  },
  {
   "cell_type": "code",
   "execution_count": 7,
   "metadata": {},
   "outputs": [
    {
     "name": "stderr",
     "output_type": "stream",
     "text": [
      "2022-08-08 22:55:26.274 | DEBUG    | mofdscribe.bench.mofbench:_score:282 - K-fold round 0, 1683 train points, 421 test points\n",
      "2022-08-08 22:55:26.277 | DEBUG    | mofdscribe.bench.mofbench:_score:282 - K-fold round 1, 1683 train points, 421 test points\n",
      "2022-08-08 22:55:26.280 | DEBUG    | mofdscribe.bench.mofbench:_score:282 - K-fold round 2, 1683 train points, 421 test points\n",
      "2022-08-08 22:55:26.282 | DEBUG    | mofdscribe.bench.mofbench:_score:282 - K-fold round 3, 1683 train points, 421 test points\n",
      "2022-08-08 22:55:26.285 | DEBUG    | mofdscribe.bench.mofbench:_score:282 - K-fold round 4, 1684 train points, 420 test points\n"
     ]
    }
   ],
   "source": [
    "dummy_median_bench_results = dummy_median_bench.bench()"
   ]
  },
  {
   "cell_type": "code",
   "execution_count": 11,
   "metadata": {},
   "outputs": [],
   "source": [
    "dummy_median_bench_results.save_json('../../bench_results/logKH_CO2_ood')\n",
    "dummy_median_bench_results.save_rst('../../bench_results/logKH_CO2_ood')"
   ]
  },
  {
   "cell_type": "markdown",
   "metadata": {},
   "source": [
    "Now, let's use a slightly more fancy model"
   ]
  },
  {
   "cell_type": "code",
   "execution_count": 12,
   "metadata": {},
   "outputs": [
    {
     "name": "stderr",
     "output_type": "stream",
     "text": [
      "2022-08-08 22:56:06.141 | DEBUG    | mofdscribe.datasets.core_dataset:__init__:127 - Dropped 3227 duplicate basenames. New length 2166\n",
      "2022-08-08 22:56:06.175 | DEBUG    | mofdscribe.datasets.core_dataset:__init__:133 - Dropped 62 duplicate graphs. New length 2104\n",
      "2022-08-08 22:56:10.806 | DEBUG    | mofdscribe.datasets.core_dataset:__init__:127 - Dropped 3227 duplicate basenames. New length 2166\n",
      "2022-08-08 22:56:10.918 | DEBUG    | mofdscribe.datasets.core_dataset:__init__:133 - Dropped 62 duplicate graphs. New length 2104\n",
      "2022-08-08 22:56:10.930 | DEBUG    | mofdscribe.splitters.splitters:__init__:116 - Splitter settings | shuffle True, random state None, sample frac 1.0, q (0, 0.25, 0.5, 0.75, 1)\n"
     ]
    }
   ],
   "source": [
    "xgboost_default_baseline = LogkHCO2OODBench(DFModel(XGBRegressor()),\n",
    "    name=\"default-xgboost-default-feat\", \n",
    "    features='default featurset of dataset',\n",
    "    implementation='mofdscribe',\n",
    "    patch_in_ds=True\n",
    ")"
   ]
  },
  {
   "cell_type": "code",
   "execution_count": 13,
   "metadata": {},
   "outputs": [
    {
     "name": "stderr",
     "output_type": "stream",
     "text": [
      "2022-08-08 22:56:11.530 | DEBUG    | mofdscribe.bench.mofbench:_score:282 - K-fold round 0, 1683 train points, 421 test points\n",
      "2022-08-08 22:56:11.532 | DEBUG    | mofdscribe.bench.df_model:fit:36 - Fitting model\n",
      "2022-08-08 22:56:11.550 | DEBUG    | mofdscribe.bench.df_model:fit:38 - (1683, 2387)\n",
      "2022-08-08 22:56:21.694 | DEBUG    | mofdscribe.bench.mofbench:_score:282 - K-fold round 1, 1683 train points, 421 test points\n",
      "2022-08-08 22:56:21.695 | DEBUG    | mofdscribe.bench.df_model:fit:36 - Fitting model\n",
      "2022-08-08 22:56:21.708 | DEBUG    | mofdscribe.bench.df_model:fit:38 - (1683, 2387)\n",
      "2022-08-08 22:56:31.716 | DEBUG    | mofdscribe.bench.mofbench:_score:282 - K-fold round 2, 1683 train points, 421 test points\n",
      "2022-08-08 22:56:31.717 | DEBUG    | mofdscribe.bench.df_model:fit:36 - Fitting model\n",
      "2022-08-08 22:56:31.731 | DEBUG    | mofdscribe.bench.df_model:fit:38 - (1683, 2387)\n",
      "2022-08-08 22:56:42.159 | DEBUG    | mofdscribe.bench.mofbench:_score:282 - K-fold round 3, 1683 train points, 421 test points\n",
      "2022-08-08 22:56:42.160 | DEBUG    | mofdscribe.bench.df_model:fit:36 - Fitting model\n",
      "2022-08-08 22:56:42.173 | DEBUG    | mofdscribe.bench.df_model:fit:38 - (1683, 2387)\n",
      "2022-08-08 22:56:52.989 | DEBUG    | mofdscribe.bench.mofbench:_score:282 - K-fold round 4, 1684 train points, 420 test points\n",
      "2022-08-08 22:56:52.991 | DEBUG    | mofdscribe.bench.df_model:fit:36 - Fitting model\n",
      "2022-08-08 22:56:53.010 | DEBUG    | mofdscribe.bench.df_model:fit:38 - (1684, 2387)\n"
     ]
    }
   ],
   "source": [
    "xgboost_default_baseline_results = xgboost_default_baseline.bench()"
   ]
  },
  {
   "cell_type": "code",
   "execution_count": 14,
   "metadata": {},
   "outputs": [],
   "source": [
    "xgboost_default_baseline_results.save_json('../../bench_results/logKH_CO2_ood')\n",
    "xgboost_default_baseline_results.save_rst('../../bench_results/logKH_CO2_ood')"
   ]
  },
  {
   "cell_type": "code",
   "execution_count": null,
   "metadata": {},
   "outputs": [],
   "source": []
  }
 ],
 "metadata": {
  "kernelspec": {
   "display_name": "Python 3.8.13 ('mofdscribe')",
   "language": "python",
   "name": "python3"
  },
  "language_info": {
   "codemirror_mode": {
    "name": "ipython",
    "version": 3
   },
   "file_extension": ".py",
   "mimetype": "text/x-python",
   "name": "python",
   "nbconvert_exporter": "python",
   "pygments_lexer": "ipython3",
   "version": "3.8.13"
  },
  "orig_nbformat": 4,
  "vscode": {
   "interpreter": {
    "hash": "3ffc06f754d7c80b59e39914e7792f1f92938dc6ca13a8ff96847f8f4d27fee3"
   }
  }
 },
 "nbformat": 4,
 "nbformat_minor": 2
}
