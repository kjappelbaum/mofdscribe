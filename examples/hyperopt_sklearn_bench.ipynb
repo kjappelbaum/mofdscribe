{
 "cells": [
  {
   "cell_type": "markdown",
   "metadata": {},
   "source": [
    "# Using hyperopt-sklearn with `Bench`\n"
   ]
  },
  {
   "cell_type": "markdown",
   "metadata": {},
   "source": [
    "[hyperopt-sklearn](https://github.com/hyperopt/hyperopt-sklearn) is a popular library for tuning many \"classical\" ML models. The convenience this library brings is that it has predefined hyperparameter grids that are automatically tuned when one calls `fit`.\n",
    "\n",
    "One difficulty is that it currently does not have a convenient interface for providing custom validation sets (see [this issue](https://github.com/hyperopt/hyperopt-sklearn/issues/152)). We will use this as one other example for how to implement a model for benchmarking with `mofdscribe`.\n"
   ]
  },
  {
   "cell_type": "code",
   "execution_count": 1,
   "metadata": {},
   "outputs": [],
   "source": [
    "from mofdscribe.bench import LogkHCO2IDBench\n",
    "from mofdscribe.datasets.core_dataset import CoREDataset\n",
    "from hpsklearn import (\n",
    "    HyperoptEstimator,\n",
    "    gaussian_process_regressor,\n",
    "    lightgbm_regression,\n",
    "    power_transformer,\n",
    "    standard_scaler,\n",
    "    xgboost_regression,\n",
    ")\n",
    "\n",
    "from mofdscribe.splitters import HashSplitter\n",
    "import numpy as np\n",
    "from copy import deepcopy\n"
   ]
  },
  {
   "cell_type": "code",
   "execution_count": 2,
   "metadata": {},
   "outputs": [
    {
     "name": "stderr",
     "output_type": "stream",
     "text": [
      "2022-08-07 16:25:09.726 | DEBUG    | mofdscribe.datasets.core_dataset:__init__:127 - Dropped 3227 duplicate basenames. New length 2166\n",
      "2022-08-07 16:25:09.762 | DEBUG    | mofdscribe.datasets.core_dataset:__init__:133 - Dropped 62 duplicate graphs. New length 2104\n"
     ]
    }
   ],
   "source": [
    "ds = CoREDataset()\n",
    "\n",
    "FEATURES = list(ds.available_features)\n",
    "\n",
    "TARGET = \"outputs.logKH_CO2\"\n"
   ]
  },
  {
   "cell_type": "code",
   "execution_count": 7,
   "metadata": {},
   "outputs": [],
   "source": [
    "class TunedXBoost:\n",
    "    def __init__(self, features):\n",
    "        self.model = HyperoptEstimator(regressor=xgboost_regression(\"mymodel\"))\n",
    "        self.features = features\n",
    "\n",
    "    def tune(self, idx, y):\n",
    "        tune_splitter = HashSplitter(self.ds.get_subset(idx))\n",
    "        # we will now use a simple split in two parts,\n",
    "        # however, you could also use a k-fold in the tune method\n",
    "        models = []\n",
    "        for train_idx_, valid_idx_ in tune_splitter.k_fold(5):\n",
    "            train_idx = idx[train_idx_]\n",
    "            valid_idx = idx[valid_idx_]\n",
    "\n",
    "            train_x, train_y = self.ds._df.iloc[train_idx][self.features], y[train_idx_]\n",
    "            valid_x, valid_y = self.ds._df.iloc[valid_idx][self.features], y[valid_idx_]\n",
    "\n",
    "            # we concatenate train and validation data\n",
    "            # but make sure to turn of shuffling and use the last fraction of the data for validation\n",
    "            x = np.concatenate([train_x, valid_x])\n",
    "            y = np.concatenate([train_y, valid_y])\n",
    "\n",
    "            valid_frac = len(valid_x) / len(x)\n",
    "\n",
    "            model = deepcopy(self.model)\n",
    "            model.fit(x, y, cv_shuffle=False, n_folds=None, valid_size=valid_frac)\n",
    "\n",
    "            models.append((model._best_loss, model, model._best_learner))\n",
    "\n",
    "        models = sorted(models, key=lambda x: x[0]) \n",
    "        self.model = models[0][1]\n",
    "\n",
    "    def fit(self, idx, structures, y):\n",
    "        self.tune(idx, y)\n",
    "        X = self.ds._df.iloc[idx][self.features]\n",
    "        self.model.fit(X, y)\n",
    "\n",
    "    def predict(self, idx, structures):\n",
    "        X = self.ds._df.iloc[idx][self.features]\n",
    "        pred = self.model.predict(X)\n",
    "        return pred\n"
   ]
  },
  {
   "cell_type": "code",
   "execution_count": 8,
   "metadata": {},
   "outputs": [],
   "source": [
    "model = TunedXBoost(FEATURES)\n"
   ]
  },
  {
   "cell_type": "code",
   "execution_count": 12,
   "metadata": {},
   "outputs": [
    {
     "name": "stderr",
     "output_type": "stream",
     "text": [
      "2022-08-07 16:54:49.212 | DEBUG    | mofdscribe.datasets.core_dataset:__init__:127 - Dropped 3227 duplicate basenames. New length 2166\n",
      "2022-08-07 16:54:49.364 | DEBUG    | mofdscribe.datasets.core_dataset:__init__:133 - Dropped 62 duplicate graphs. New length 2104\n",
      "2022-08-07 16:54:53.772 | DEBUG    | mofdscribe.datasets.core_dataset:__init__:127 - Dropped 3227 duplicate basenames. New length 2166\n",
      "2022-08-07 16:54:53.806 | DEBUG    | mofdscribe.datasets.core_dataset:__init__:133 - Dropped 62 duplicate graphs. New length 2104\n",
      "2022-08-07 16:54:53.819 | DEBUG    | mofdscribe.splitters.splitters:__init__:116 - Splitter settings | shuffle True, random state None, sample frac 1.0, q (0, 0.25, 0.5, 0.75, 1)\n"
     ]
    }
   ],
   "source": [
    "bench = LogkHCO2IDBench(model, name=\"xgboost-hyperopt\", debug=False, patch_in_ds=True)\n"
   ]
  },
  {
   "cell_type": "code",
   "execution_count": 13,
   "metadata": {},
   "outputs": [
    {
     "name": "stderr",
     "output_type": "stream",
     "text": [
      "2022-08-07 16:54:54.247 | DEBUG    | mofdscribe.bench.mofbench:_score:230 - K-fold round 0, 1690 train points, 414 test points\n",
      "2022-08-07 16:54:58.571 | DEBUG    | mofdscribe.datasets.core_dataset:__init__:127 - Dropped 3227 duplicate basenames. New length 2166\n",
      "2022-08-07 16:54:58.606 | DEBUG    | mofdscribe.datasets.core_dataset:__init__:133 - Dropped 62 duplicate graphs. New length 2104\n",
      "2022-08-07 16:54:58.637 | DEBUG    | mofdscribe.splitters.splitters:__init__:116 - Splitter settings | shuffle True, random state None, sample frac 1.0, q (0, 0.25, 0.5, 0.75, 1)\n"
     ]
    },
    {
     "name": "stdout",
     "output_type": "stream",
     "text": [
      "100%|██████████| 1/1 [01:57<00:00, 117.24s/trial, best loss: 0.898569482858713]\n",
      "100%|██████████| 2/2 [07:08<00:00, 428.60s/trial, best loss: 0.898569482858713]\n",
      "100%|██████████| 3/3 [15:11<00:00, 911.92s/trial, best loss: 0.8314557217203841]\n",
      "100%|██████████| 4/4 [00:14<00:00, 14.98s/trial, best loss: 0.8314557217203841]\n",
      "100%|██████████| 5/5 [00:34<00:00, 34.15s/trial, best loss: 0.7244665752586938]\n",
      "100%|██████████| 6/6 [10:16<00:00, 616.58s/trial, best loss: 0.6952394490714696]\n",
      "100%|██████████| 7/7 [03:17<00:00, 197.77s/trial, best loss: 0.6952394490714696]\n",
      "100%|██████████| 8/8 [00:49<00:00, 49.25s/trial, best loss: 0.6952394490714696]\n",
      "100%|██████████| 9/9 [01:16<00:00, 76.70s/trial, best loss: 0.6952394490714696]\n",
      "100%|██████████| 10/10 [16:23<00:00, 983.43s/trial, best loss: 0.694418136430368]\n",
      "100%|██████████| 1/1 [11:21<00:00, 681.22s/trial, best loss: 1.05180736650701]\n",
      "100%|██████████| 2/2 [00:27<00:00, 27.53s/trial, best loss: 1.05180736650701]\n",
      "100%|██████████| 3/3 [13:45<00:00, 825.57s/trial, best loss: 1.05180736650701]\n",
      "100%|██████████| 4/4 [11:08<00:00, 668.49s/trial, best loss: 1.05180736650701]\n",
      "100%|██████████| 5/5 [09:11<00:00, 551.95s/trial, best loss: 1.05180736650701]\n",
      "100%|██████████| 6/6 [10:16<00:00, 616.17s/trial, best loss: 1.05180736650701]\n",
      "100%|██████████| 7/7 [08:59<00:00, 539.47s/trial, best loss: 1.05180736650701]\n",
      "100%|██████████| 8/8 [02:01<00:00, 121.53s/trial, best loss: 0.990182733130341]\n",
      "100%|██████████| 9/9 [02:07<00:00, 127.62s/trial, best loss: 0.990182733130341]\n",
      "100%|██████████| 10/10 [00:35<00:00, 35.03s/trial, best loss: 0.990182733130341]\n",
      "100%|██████████| 1/1 [01:59<00:00, 119.93s/trial, best loss: 10.735912157320024]\n",
      "100%|██████████| 2/2 [04:49<00:00, 289.73s/trial, best loss: 1.336522616160698]\n",
      "100%|██████████| 3/3 [02:18<00:00, 138.26s/trial, best loss: 1.053767891128908]\n",
      "100%|██████████| 4/4 [13:46<00:00, 826.71s/trial, best loss: 1.053767891128908]\n",
      "100%|██████████| 5/5 [01:53<00:00, 113.82s/trial, best loss: 1.053767891128908]\n",
      "100%|██████████| 6/6 [14:36<00:00, 876.18s/trial, best loss: 1.053767891128908]\n",
      "100%|██████████| 7/7 [06:53<00:00, 413.11s/trial, best loss: 1.053767891128908]\n",
      "100%|██████████| 8/8 [01:51<00:00, 111.29s/trial, best loss: 1.053767891128908]\n",
      "100%|██████████| 9/9 [00:35<00:00, 35.84s/trial, best loss: 1.0370703518821744]\n",
      "100%|██████████| 10/10 [12:33<00:00, 753.91s/trial, best loss: 1.0370703518821744]\n",
      "100%|██████████| 1/1 [06:11<00:00, 371.70s/trial, best loss: 1.1861242569579264]\n",
      "100%|██████████| 2/2 [00:43<00:00, 43.93s/trial, best loss: 1.1861242569579264]\n",
      "100%|██████████| 3/3 [01:32<00:00, 93.00s/trial, best loss: 1.1861242569579264]\n",
      "100%|██████████| 4/4 [00:37<00:00, 37.68s/trial, best loss: 1.1861242569579264]\n",
      "100%|██████████| 5/5 [00:02<00:00,  2.14s/trial, best loss: 1.1861242569579264]\n",
      "100%|██████████| 6/6 [00:01<00:00,  1.63s/trial, best loss: 1.1861242569579264]\n",
      "100%|██████████| 7/7 [02:06<00:00, 126.93s/trial, best loss: 1.101700160513956]\n",
      "100%|██████████| 8/8 [00:50<00:00, 50.26s/trial, best loss: 1.057545551082286]\n",
      "100%|██████████| 9/9 [01:01<00:00, 61.23s/trial, best loss: 1.057545551082286]\n",
      "100%|██████████| 10/10 [00:01<00:00,  1.57s/trial, best loss: 1.057545551082286]\n",
      "100%|██████████| 1/1 [05:59<00:00, 359.54s/trial, best loss: 10.762619687496812]\n",
      "100%|██████████| 2/2 [01:36<00:00, 96.08s/trial, best loss: 10.496487496397329]\n",
      "100%|██████████| 3/3 [06:07<00:00, 367.49s/trial, best loss: 1.1267091940345983]\n",
      "100%|██████████| 4/4 [03:57<00:00, 237.11s/trial, best loss: 1.1267091940345983]\n",
      "100%|██████████| 5/5 [00:03<00:00,  3.23s/trial, best loss: 1.026138470266063]\n",
      "100%|██████████| 6/6 [03:19<00:00, 199.50s/trial, best loss: 1.026138470266063]\n",
      "100%|██████████| 7/7 [05:52<00:00, 352.10s/trial, best loss: 1.026138470266063]\n",
      "100%|██████████| 8/8 [06:01<00:00, 361.12s/trial, best loss: 1.026138470266063]\n",
      "100%|██████████| 9/9 [13:10<00:00, 790.79s/trial, best loss: 1.026138470266063]\n",
      "100%|██████████| 10/10 [01:07<00:00, 67.74s/trial, best loss: 1.026138470266063]\n",
      "[(0.694418136430368, hyperopt_estimator(ex_preprocs=(),\n",
      "                   preprocessing=<hyperopt.pyll.base.Apply object at 0x3015f9190>,\n",
      "                   regressor=<hyperopt.pyll.base.Apply object at 0x3015f9250>,\n",
      "                   space=<hyperopt.pyll.base.Apply object at 0x2c9430520>), XGBRegressor(base_score=0.5, booster='gbtree', callbacks=None,\n",
      "             colsample_bylevel=0.7720770462728171, colsample_bynode=1,\n",
      "             colsample_bytree=0.85288795632054, early_stopping_rounds=None,\n",
      "             enable_categorical=False, eval_metric=None,\n",
      "             gamma=0.8170613897195499, gpu_id=-1, grow_policy='depthwise',\n",
      "             importance_type=None, interaction_constraints='',\n",
      "             learning_rate=0.03777359868922444, max_bin=256,\n",
      "             max_cat_to_onehot=4, max_delta_step=0, max_depth=8, max_leaves=0,\n",
      "             min_child_weight=49, missing=nan, monotone_constraints='()',\n",
      "             n_estimators=5200, n_jobs=1, num_parallel_tree=1, predictor='auto',\n",
      "             random_state=1, reg_alpha=0.007252239224936707,\n",
      "             reg_lambda=2.1063233717144865, ...)), (0.990182733130341, hyperopt_estimator(ex_preprocs=(),\n",
      "                   preprocessing=<hyperopt.pyll.base.Apply object at 0x3015f9280>,\n",
      "                   regressor=<hyperopt.pyll.base.Apply object at 0x3015f9130>,\n",
      "                   space=<hyperopt.pyll.base.Apply object at 0x3015f93a0>), XGBRegressor(base_score=0.5, booster='gbtree', callbacks=None,\n",
      "             colsample_bylevel=0.564783625977314, colsample_bynode=1,\n",
      "             colsample_bytree=0.5041374250528745, early_stopping_rounds=None,\n",
      "             enable_categorical=False, eval_metric=None,\n",
      "             gamma=7.69376552956353e-05, gpu_id=-1, grow_policy='depthwise',\n",
      "             importance_type=None, interaction_constraints='',\n",
      "             learning_rate=0.0013718573413546938, max_bin=256,\n",
      "             max_cat_to_onehot=4, max_delta_step=0, max_depth=2, max_leaves=0,\n",
      "             min_child_weight=99, missing=nan, monotone_constraints='()',\n",
      "             n_estimators=4800, n_jobs=1, num_parallel_tree=1, predictor='auto',\n",
      "             random_state=1, reg_alpha=0.10895851402709167,\n",
      "             reg_lambda=1.679591607084703, ...)), (1.026138470266063, hyperopt_estimator(ex_preprocs=(),\n",
      "                   preprocessing=<hyperopt.pyll.base.Apply object at 0x3027e7790>,\n",
      "                   regressor=<hyperopt.pyll.base.Apply object at 0x3027e7be0>,\n",
      "                   space=<hyperopt.pyll.base.Apply object at 0x3013cba60>), XGBRegressor(base_score=0.5, booster='gbtree', callbacks=None,\n",
      "             colsample_bylevel=0.7116922428264576, colsample_bynode=1,\n",
      "             colsample_bytree=0.6741043855017521, early_stopping_rounds=None,\n",
      "             enable_categorical=False, eval_metric=None,\n",
      "             gamma=9.886820434218945e-05, gpu_id=-1, grow_policy='depthwise',\n",
      "             importance_type=None, interaction_constraints='',\n",
      "             learning_rate=0.0027417696299438256, max_bin=256,\n",
      "             max_cat_to_onehot=4, max_delta_step=0, max_depth=3, max_leaves=0,\n",
      "             min_child_weight=1, missing=nan, monotone_constraints='()',\n",
      "             n_estimators=4600, n_jobs=1, num_parallel_tree=1, predictor='auto',\n",
      "             random_state=2, reg_alpha=0.03505298479707249,\n",
      "             reg_lambda=1.8077623129577756, ...)), (1.0370703518821744, hyperopt_estimator(ex_preprocs=(),\n",
      "                   preprocessing=<hyperopt.pyll.base.Apply object at 0x3017ec940>,\n",
      "                   regressor=<hyperopt.pyll.base.Apply object at 0x2bce3d520>,\n",
      "                   space=<hyperopt.pyll.base.Apply object at 0x3015f9490>), XGBRegressor(base_score=0.5, booster='gbtree', callbacks=None,\n",
      "             colsample_bylevel=0.9013139272702322, colsample_bynode=1,\n",
      "             colsample_bytree=0.6226492343509005, early_stopping_rounds=None,\n",
      "             enable_categorical=False, eval_metric=None,\n",
      "             gamma=0.0025827734363467044, gpu_id=-1, grow_policy='depthwise',\n",
      "             importance_type=None, interaction_constraints='',\n",
      "             learning_rate=0.0014370196245423739, max_bin=256,\n",
      "             max_cat_to_onehot=4, max_delta_step=0, max_depth=10, max_leaves=0,\n",
      "             min_child_weight=6, missing=nan, monotone_constraints='()',\n",
      "             n_estimators=3800, n_jobs=1, num_parallel_tree=1, predictor='auto',\n",
      "             random_state=4, reg_alpha=0.39150105966891113,\n",
      "             reg_lambda=1.612513944275534, ...)), (1.057545551082286, hyperopt_estimator(ex_preprocs=(),\n",
      "                   preprocessing=<hyperopt.pyll.base.Apply object at 0x3027e7040>,\n",
      "                   regressor=<hyperopt.pyll.base.Apply object at 0x3027e7820>,\n",
      "                   space=<hyperopt.pyll.base.Apply object at 0x29333eaf0>), XGBRegressor(base_score=0.5, booster='gbtree', callbacks=None,\n",
      "             colsample_bylevel=0.5775684849840323, colsample_bynode=1,\n",
      "             colsample_bytree=0.788322296921466, early_stopping_rounds=None,\n",
      "             enable_categorical=False, eval_metric=None,\n",
      "             gamma=0.07918204645001731, gpu_id=-1, grow_policy='depthwise',\n",
      "             importance_type=None, interaction_constraints='',\n",
      "             learning_rate=0.012155818617823094, max_bin=256,\n",
      "             max_cat_to_onehot=4, max_delta_step=0, max_depth=1, max_leaves=0,\n",
      "             min_child_weight=30, missing=nan, monotone_constraints='()',\n",
      "             n_estimators=2600, n_jobs=1, num_parallel_tree=1, predictor='auto',\n",
      "             random_state=3, reg_alpha=0.012016617748524512,\n",
      "             reg_lambda=3.5288561918685235, ...))]\n",
      "100%|██████████| 1/1 [00:22<00:00, 22.40s/trial, best loss: 0.8240464214151395]\n",
      " 50%|█████     | 1/2 [00:00<?, ?trial/s, best loss=?]"
     ]
    }
   ],
   "source": [
    "report = bench.bench()\n"
   ]
  },
  {
   "cell_type": "code",
   "execution_count": 11,
   "metadata": {},
   "outputs": [
    {
     "data": {
      "text/plain": [
       "BenchResult(start_time=datetime.datetime(2022, 8, 7, 14, 26, 50, 724208, tzinfo=datetime.timezone.utc), end_time=datetime.datetime(2022, 8, 7, 14, 41, 22, 5793, tzinfo=datetime.timezone.utc), metrics=RegressionMetricCollection(regression_metrics=[RegressionMetrics(mean_squared_error=2.2541407682886128, mean_absolute_error=1.2180623255137877, r2_score=0.033736962545019455, max_error=2.6369412290583982, mean_absolute_percentage_error=1.1498512872694546, top_5_in_top_5=1, top_10_in_top_10=1, top_50_in_top_50=1, top_100_in_top_100=1, top_500_in_top_500=1), RegressionMetrics(mean_squared_error=1.1809820371171182, mean_absolute_error=0.9447372616054199, r2_score=-0.8369989405136833, max_error=1.855924517571582, mean_absolute_percentage_error=0.36642558493148253, top_5_in_top_5=1, top_10_in_top_10=1, top_50_in_top_50=1, top_100_in_top_100=1, top_500_in_top_500=1), RegressionMetrics(mean_squared_error=1.3269701986068339, mean_absolute_error=0.9784902795550539, r2_score=-3.740793935068651, max_error=1.8704600339143314, mean_absolute_percentage_error=0.217864210184199, top_5_in_top_5=1, top_10_in_top_10=1, top_50_in_top_50=1, top_100_in_top_100=1, top_500_in_top_500=1), RegressionMetrics(mean_squared_error=1.150202341340342, mean_absolute_error=0.8497603810000001, r2_score=-0.07349905527455713, max_error=1.8390539338907228, mean_absolute_percentage_error=0.2604928881853958, top_5_in_top_5=1, top_10_in_top_10=1, top_50_in_top_50=1, top_100_in_top_100=1, top_500_in_top_500=1), RegressionMetrics(mean_squared_error=3.3927890717820484, mean_absolute_error=1.405920638400525, r2_score=-0.1198535745596705, max_error=3.417342529160132, mean_absolute_percentage_error=6.564465495327754, top_5_in_top_5=1, top_10_in_top_10=1, top_50_in_top_50=1, top_100_in_top_100=1, top_500_in_top_500=1)], fit_timings=[167.71560382843018, 163.32999515533447, 157.9654541015625, 199.16321396827698, 182.72400498390198], inference_timings=[0.010875225067138672, 0.00564122200012207, 0.00603795051574707, 0.006837129592895508, 0.004682064056396484]), version='v0.0.1', features=None, name='xgboost-hyperopt', task=<BenchTaskEnum.logKH_CO2_id: 'logKH_CO2_id'>, model_type=None, reference=None, implementation=None, mofdscribe_version='0.0.1-dev')"
      ]
     },
     "execution_count": 11,
     "metadata": {},
     "output_type": "execute_result"
    }
   ],
   "source": [
    "report"
   ]
  },
  {
   "cell_type": "code",
   "execution_count": null,
   "metadata": {},
   "outputs": [],
   "source": []
  }
 ],
 "metadata": {
  "kernelspec": {
   "display_name": "Python 3.8.13 ('mofdscribe')",
   "language": "python",
   "name": "python3"
  },
  "language_info": {
   "codemirror_mode": {
    "name": "ipython",
    "version": 3
   },
   "file_extension": ".py",
   "mimetype": "text/x-python",
   "name": "python",
   "nbconvert_exporter": "python",
   "pygments_lexer": "ipython3",
   "version": "3.8.13"
  },
  "orig_nbformat": 4,
  "vscode": {
   "interpreter": {
    "hash": "3ffc06f754d7c80b59e39914e7792f1f92938dc6ca13a8ff96847f8f4d27fee3"
   }
  }
 },
 "nbformat": 4,
 "nbformat_minor": 2
}
